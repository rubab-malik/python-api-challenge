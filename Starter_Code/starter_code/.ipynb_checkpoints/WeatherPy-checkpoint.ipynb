{
 "cells": [
  {
   "cell_type": "markdown",
   "metadata": {},
   "source": [
    "# WeatherPy\n",
    "\n",
    "---\n",
    "\n",
    "## Starter Code to Generate Random Geographic Coordinates and a List of Cities"
   ]
  },
  {
   "cell_type": "code",
   "execution_count": 1,
   "metadata": {
    "scrolled": true
   },
   "outputs": [],
   "source": [
    "# Dependencies and Setup\n",
    "import matplotlib.pyplot as plt\n",
    "import pandas as pd\n",
    "import numpy as np\n",
    "import requests\n",
    "import time\n",
    "from scipy.stats import linregress\n",
    "\n",
    "# Impor the OpenWeatherMap API key\n",
    "from api_keys import weather_api_key\n",
    "\n",
    "# Import citipy to determine the cities based on latitude and longitude\n",
    "from citipy import citipy"
   ]
  },
  {
   "cell_type": "markdown",
   "metadata": {},
   "source": [
    "### Generate the Cities List by Using the `citipy` Library"
   ]
  },
  {
   "cell_type": "code",
   "execution_count": 2,
   "metadata": {},
   "outputs": [
    {
     "name": "stdout",
     "output_type": "stream",
     "text": [
      "Number of cities in the list: 611\n"
     ]
    }
   ],
   "source": [
    "# Empty list for holding the latitude and longitude combinations\n",
    "lat_lngs = []\n",
    "\n",
    "# Empty list for holding the cities names\n",
    "cities = []\n",
    "\n",
    "# Range of latitudes and longitudes\n",
    "lat_range = (-90, 90)\n",
    "lng_range = (-180, 180)\n",
    "\n",
    "# Create a set of random lat and lng combinations\n",
    "lats = np.random.uniform(lat_range[0], lat_range[1], size=1500)\n",
    "lngs = np.random.uniform(lng_range[0], lng_range[1], size=1500)\n",
    "lat_lngs = zip(lats, lngs)\n",
    "\n",
    "# Identify nearest city for each lat, lng combination\n",
    "for lat_lng in lat_lngs:\n",
    "    city = citipy.nearest_city(lat_lng[0], lat_lng[1]).city_name\n",
    "    \n",
    "    # If the city is unique, then add it to a our cities list\n",
    "    if city not in cities:\n",
    "        cities.append(city)\n",
    "\n",
    "# Print the city count to confirm sufficient count\n",
    "print(f\"Number of cities in the list: {len(cities)}\")"
   ]
  },
  {
   "cell_type": "markdown",
   "metadata": {},
   "source": [
    "---"
   ]
  },
  {
   "cell_type": "markdown",
   "metadata": {},
   "source": [
    "## Requirement 1: Create Plots to Showcase the Relationship Between Weather Variables and Latitude\n",
    "\n",
    "### Use the OpenWeatherMap API to retrieve weather data from the cities list generated in the started code"
   ]
  },
  {
   "cell_type": "code",
   "execution_count": null,
   "metadata": {},
   "outputs": [
    {
     "name": "stdout",
     "output_type": "stream",
     "text": [
      "Beginning Data Retrieval     \n",
      "-----------------------------\n",
      "Processing Record 1 of Set 1 | port hedland\n",
      "Processing Record 2 of Set 1 | broome\n",
      "Processing Record 3 of Set 1 | puerto ayora\n",
      "Processing Record 4 of Set 1 | rikitea\n",
      "Processing Record 5 of Set 1 | belushya guba\n",
      "City not found. Skipping...\n",
      "Processing Record 6 of Set 1 | lolua\n",
      "City not found. Skipping...\n",
      "Processing Record 7 of Set 1 | geraldton\n",
      "Processing Record 8 of Set 1 | bambous virieux\n",
      "Processing Record 9 of Set 1 | qaanaaq\n",
      "Processing Record 10 of Set 1 | togur\n",
      "Processing Record 11 of Set 1 | ribeira grande\n",
      "Processing Record 12 of Set 1 | norden\n",
      "Processing Record 13 of Set 1 | carnarvon\n",
      "Processing Record 14 of Set 1 | coahuayana\n",
      "Processing Record 15 of Set 1 | perth\n",
      "Processing Record 16 of Set 1 | paradwip\n",
      "City not found. Skipping...\n",
      "Processing Record 17 of Set 1 | nangong\n",
      "Processing Record 18 of Set 1 | ingham\n",
      "Processing Record 19 of Set 1 | taolanaro\n",
      "City not found. Skipping...\n",
      "Processing Record 20 of Set 1 | tumannyy\n",
      "City not found. Skipping...\n",
      "Processing Record 21 of Set 1 | lorengau\n",
      "Processing Record 22 of Set 1 | kaniama\n",
      "Processing Record 23 of Set 1 | jinchang\n",
      "Processing Record 24 of Set 1 | uwayl\n",
      "City not found. Skipping...\n",
      "Processing Record 25 of Set 1 | busselton\n",
      "Processing Record 26 of Set 1 | punta arenas\n",
      "Processing Record 27 of Set 1 | bereznik\n",
      "Processing Record 28 of Set 1 | flinders\n",
      "Processing Record 29 of Set 1 | east london\n",
      "Processing Record 30 of Set 1 | bluff\n",
      "Processing Record 31 of Set 1 | meyungs\n",
      "City not found. Skipping...\n",
      "Processing Record 32 of Set 1 | kodiak\n",
      "Processing Record 33 of Set 1 | lavrentiya\n",
      "Processing Record 34 of Set 1 | hermanus\n",
      "Processing Record 35 of Set 1 | altay\n",
      "Processing Record 36 of Set 1 | port alfred\n",
      "Processing Record 37 of Set 1 | ambilobe\n",
      "Processing Record 38 of Set 1 | barentsburg\n",
      "City not found. Skipping...\n",
      "Processing Record 39 of Set 1 | tinos\n",
      "Processing Record 40 of Set 1 | port lincoln\n",
      "Processing Record 41 of Set 1 | ushuaia\n",
      "Processing Record 42 of Set 1 | dikson\n",
      "Processing Record 43 of Set 1 | lucea\n",
      "Processing Record 44 of Set 1 | aberystwyth\n",
      "Processing Record 45 of Set 1 | khatanga\n",
      "Processing Record 46 of Set 1 | paraiso\n",
      "Processing Record 47 of Set 1 | vangaindrano\n",
      "Processing Record 48 of Set 1 | iqaluit\n",
      "Processing Record 49 of Set 1 | dyshne-vedeno\n",
      "Processing Record 50 of Set 1 | cape town\n",
      "Processing Record 0 of Set 2 | saint-philippe\n",
      "Processing Record 1 of Set 2 | gao\n",
      "Processing Record 2 of Set 2 | comodoro rivadavia\n",
      "Processing Record 3 of Set 2 | torbay\n",
      "Processing Record 4 of Set 2 | thompson\n",
      "Processing Record 5 of Set 2 | arraial do cabo\n",
      "Processing Record 6 of Set 2 | vanimo\n",
      "Processing Record 7 of Set 2 | mango\n",
      "Processing Record 8 of Set 2 | faanui\n",
      "Processing Record 9 of Set 2 | atuona\n",
      "Processing Record 10 of Set 2 | ndele\n",
      "Processing Record 11 of Set 2 | vaini\n",
      "Processing Record 12 of Set 2 | quimperle\n",
      "Processing Record 13 of Set 2 | esperance\n",
      "Processing Record 14 of Set 2 | cabo san lucas\n",
      "Processing Record 15 of Set 2 | kahului\n",
      "Processing Record 16 of Set 2 | hobart\n",
      "Processing Record 17 of Set 2 | bethel\n",
      "Processing Record 18 of Set 2 | yellowknife\n",
      "Processing Record 19 of Set 2 | mataura\n",
      "Processing Record 20 of Set 2 | kieta\n",
      "Processing Record 21 of Set 2 | castro\n",
      "Processing Record 22 of Set 2 | proletariy\n",
      "Processing Record 23 of Set 2 | marzuq\n",
      "Processing Record 24 of Set 2 | albany\n",
      "Processing Record 25 of Set 2 | guerrero negro\n",
      "Processing Record 26 of Set 2 | new norfolk\n",
      "Processing Record 27 of Set 2 | belaya gora\n",
      "Processing Record 28 of Set 2 | tsihombe\n",
      "City not found. Skipping...\n",
      "Processing Record 29 of Set 2 | vardo\n",
      "Processing Record 30 of Set 2 | taoudenni\n",
      "Processing Record 31 of Set 2 | ilhabela\n",
      "Processing Record 32 of Set 2 | jadu\n",
      "Processing Record 33 of Set 2 | sao filipe\n",
      "Processing Record 34 of Set 2 | poum\n",
      "Processing Record 35 of Set 2 | saskylakh\n",
      "Processing Record 36 of Set 2 | sur\n",
      "Processing Record 37 of Set 2 | grindavik\n",
      "Processing Record 38 of Set 2 | bandarbeyla\n",
      "Processing Record 39 of Set 2 | starachowice\n",
      "Processing Record 40 of Set 2 | alofi\n",
      "Processing Record 41 of Set 2 | karuzi\n",
      "Processing Record 42 of Set 2 | pevek\n",
      "Processing Record 43 of Set 2 | severo-kurilsk\n",
      "Processing Record 44 of Set 2 | nyrob\n",
      "Processing Record 45 of Set 2 | airai\n",
      "Processing Record 46 of Set 2 | dezful\n",
      "Processing Record 47 of Set 2 | lasa\n",
      "Processing Record 48 of Set 2 | poltavka\n",
      "Processing Record 49 of Set 2 | georgetown\n",
      "Processing Record 0 of Set 3 | xichang\n",
      "Processing Record 1 of Set 3 | olafsvik\n",
      "Processing Record 2 of Set 3 | butaritari\n",
      "Processing Record 3 of Set 3 | los llanos de aridane\n",
      "Processing Record 4 of Set 3 | bani\n",
      "Processing Record 5 of Set 3 | bintulu\n",
      "Processing Record 6 of Set 3 | karratha\n",
      "Processing Record 7 of Set 3 | gezing\n",
      "Processing Record 8 of Set 3 | mount gambier\n",
      "Processing Record 9 of Set 3 | kolosovka\n",
      "Processing Record 10 of Set 3 | codrington\n",
      "Processing Record 11 of Set 3 | hami\n",
      "Processing Record 12 of Set 3 | tuktoyaktuk\n",
      "Processing Record 13 of Set 3 | tuatapere\n",
      "Processing Record 14 of Set 3 | lagoa\n",
      "Processing Record 15 of Set 3 | santa ines\n",
      "Processing Record 16 of Set 3 | basco\n",
      "Processing Record 17 of Set 3 | cidreira\n",
      "Processing Record 18 of Set 3 | jamestown\n",
      "Processing Record 19 of Set 3 | vaitupu\n",
      "City not found. Skipping...\n",
      "Processing Record 20 of Set 3 | mianyang\n",
      "Processing Record 21 of Set 3 | nizhniy tagil\n",
      "Processing Record 22 of Set 3 | rawson\n",
      "Processing Record 23 of Set 3 | ponta do sol\n",
      "Processing Record 24 of Set 3 | rock sound\n",
      "Processing Record 25 of Set 3 | kapaa\n",
      "Processing Record 26 of Set 3 | sambava\n",
      "Processing Record 27 of Set 3 | mahebourg\n",
      "Processing Record 28 of Set 3 | tommot\n",
      "Processing Record 29 of Set 3 | palafrugell\n",
      "Processing Record 30 of Set 3 | talnakh\n",
      "Processing Record 31 of Set 3 | antofagasta\n",
      "Processing Record 32 of Set 3 | longyearbyen\n",
      "Processing Record 33 of Set 3 | san-pedro\n",
      "Processing Record 34 of Set 3 | hithadhoo\n",
      "Processing Record 35 of Set 3 | sorland\n",
      "Processing Record 36 of Set 3 | zaraza\n",
      "Processing Record 37 of Set 3 | chuy\n",
      "Processing Record 38 of Set 3 | salamiyah\n",
      "Processing Record 39 of Set 3 | bollnas\n",
      "Processing Record 40 of Set 3 | grand river south east\n",
      "City not found. Skipping...\n",
      "Processing Record 41 of Set 3 | nanortalik\n",
      "Processing Record 42 of Set 3 | lillesand\n",
      "Processing Record 43 of Set 3 | progreso\n",
      "Processing Record 44 of Set 3 | ulaanbaatar\n",
      "Processing Record 45 of Set 3 | manzhouli\n",
      "Processing Record 46 of Set 3 | yashalta\n",
      "Processing Record 47 of Set 3 | hilo\n",
      "Processing Record 48 of Set 3 | tasiilaq\n",
      "Processing Record 49 of Set 3 | sug-aksy\n",
      "City not found. Skipping...\n",
      "Processing Record 0 of Set 4 | norman wells\n",
      "Processing Record 1 of Set 4 | dzhankoy\n",
      "Processing Record 2 of Set 4 | nome\n",
      "Processing Record 3 of Set 4 | nikolskoye\n",
      "Processing Record 4 of Set 4 | mantua\n",
      "Processing Record 5 of Set 4 | tura\n",
      "Processing Record 6 of Set 4 | bathsheba\n",
      "Processing Record 7 of Set 4 | gombong\n",
      "Processing Record 8 of Set 4 | finschhafen\n",
      "Processing Record 9 of Set 4 | thyolo\n",
      "Processing Record 10 of Set 4 | hauterive\n",
      "Processing Record 11 of Set 4 | zyryanka\n",
      "Processing Record 12 of Set 4 | sao joao da barra\n",
      "Processing Record 13 of Set 4 | warqla\n",
      "City not found. Skipping...\n",
      "Processing Record 14 of Set 4 | aflu\n",
      "City not found. Skipping...\n",
      "Processing Record 15 of Set 4 | ruatoria\n",
      "City not found. Skipping...\n",
      "Processing Record 16 of Set 4 | vao\n",
      "Processing Record 17 of Set 4 | trairi\n",
      "Processing Record 18 of Set 4 | kruisfontein\n",
      "Processing Record 19 of Set 4 | kokstad\n",
      "Processing Record 20 of Set 4 | tallahassee\n",
      "Processing Record 21 of Set 4 | luderitz\n",
      "Processing Record 22 of Set 4 | saint-joseph\n",
      "Processing Record 23 of Set 4 | bella union\n",
      "Processing Record 24 of Set 4 | soe\n",
      "Processing Record 25 of Set 4 | kaitangata\n",
      "Processing Record 26 of Set 4 | chokurdakh\n",
      "Processing Record 27 of Set 4 | urucara\n",
      "Processing Record 28 of Set 4 | saint-georges\n",
      "Processing Record 29 of Set 4 | kirakira\n",
      "Processing Record 30 of Set 4 | shimoda\n",
      "Processing Record 31 of Set 4 | tupik\n",
      "Processing Record 32 of Set 4 | avarua\n",
      "Processing Record 33 of Set 4 | paamiut\n",
      "Processing Record 34 of Set 4 | upernavik\n",
      "Processing Record 35 of Set 4 | aswan\n",
      "Processing Record 36 of Set 4 | gladstone\n",
      "Processing Record 37 of Set 4 | namatanai\n"
     ]
    },
    {
     "name": "stdout",
     "output_type": "stream",
     "text": [
      "Processing Record 38 of Set 4 | okhotsk\n",
      "Processing Record 39 of Set 4 | okakarara\n"
     ]
    }
   ],
   "source": [
    "# Set the API base URL\n",
    "url = \"https://api.openweathermap.org/data/2.5/weather?\"\n",
    "units = \"metric\"\n",
    "\n",
    "\n",
    "# Define an empty list to fetch the weather data for each city\n",
    "city_data = []\n",
    "\n",
    "# Print to logger\n",
    "print(\"Beginning Data Retrieval     \")\n",
    "print(\"-----------------------------\")\n",
    "\n",
    "# Create counters\n",
    "record_count = 1\n",
    "set_count = 1\n",
    "\n",
    "# Loop through all the cities in our list to fetch weather data\n",
    "for i, city in enumerate(cities):\n",
    "        \n",
    "    # Group cities in sets of 50 for logging purposes\n",
    "    if (i % 50 == 0 and i >= 50):\n",
    "        set_count += 1\n",
    "        record_count = 0\n",
    "\n",
    "    # Create endpoint URL with each city\n",
    "    city_url = f\"{url}q={city}&appid={weather_api_key}&units={units}\"\n",
    "    \n",
    "    # Log the url, record, and set numbers\n",
    "    print(\"Processing Record %s of Set %s | %s\" % (record_count, set_count, city))\n",
    "\n",
    "    # Add 1 to the record count\n",
    "    record_count += 1\n",
    "\n",
    "    # Run an API request for each of the cities\n",
    "    try:\n",
    "        # Parse the JSON and retrieve data\n",
    "        city_weather = requests.get(city_url).json()\n",
    "\n",
    "        # Parse out latitude, longitude, max temp, humidity, cloudiness, wind speed, country, and date\n",
    "        city_lat = city_weather['coord']['lat']\n",
    "        city_lng =city_weather['coord']['lon']\n",
    "        city_max_temp = city_weather['main']['temp_max']\n",
    "        city_humidity = city_weather['main']['humidity']\n",
    "        city_clouds = city_weather['clouds']['all']\n",
    "        city_wind = city_weather['wind']['speed']\n",
    "        city_country = city_weather['sys']['country']\n",
    "        city_date = city_weather['dt']\n",
    "\n",
    "        # Append the City information into city_data list\n",
    "        city_data.append({\"City\": city, \n",
    "                          \"Lat\": city_lat, \n",
    "                          \"Lng\": city_lng, \n",
    "                          \"Max Temp\": city_max_temp,\n",
    "                          \"Humidity\": city_humidity,\n",
    "                          \"Cloudiness\": city_clouds,\n",
    "                          \"Wind Speed\": city_wind,\n",
    "                          \"Country\": city_country,\n",
    "                          \"Date\": city_date})\n",
    "\n",
    "    # If an error is experienced, skip the city\n",
    "    except:\n",
    "        print(\"City not found. Skipping...\")\n",
    "        pass\n",
    "              \n",
    "# Indicate that Data Loading is complete \n",
    "print(\"-----------------------------\")\n",
    "print(\"Data Retrieval Complete      \")\n",
    "print(\"-----------------------------\")"
   ]
  },
  {
   "cell_type": "code",
   "execution_count": null,
   "metadata": {},
   "outputs": [],
   "source": [
    "# Convert the cities weather data into a Pandas DataFrame\n",
    "city_data_df =pd.DataFrame(city_data)\n",
    "\n",
    "# Show Record Count\n",
    "city_data_df.count()"
   ]
  },
  {
   "cell_type": "code",
   "execution_count": null,
   "metadata": {},
   "outputs": [],
   "source": [
    "# Display sample data\n",
    "city_data_df.head()"
   ]
  },
  {
   "cell_type": "code",
   "execution_count": null,
   "metadata": {},
   "outputs": [],
   "source": [
    "# Convert into proper date format\n",
    "city_data_df['Date']=(pd.to_datetime(city_data_df['Date'],unit='s')).dt.date\n",
    "city_data_df.head()"
   ]
  },
  {
   "cell_type": "code",
   "execution_count": null,
   "metadata": {},
   "outputs": [],
   "source": [
    "# Export the City_Data into a csv\n",
    "city_data_df.to_csv(\"output_data/cities.csv\", index_label=\"City_ID\")"
   ]
  },
  {
   "cell_type": "code",
   "execution_count": null,
   "metadata": {},
   "outputs": [],
   "source": [
    "# Read saved data\n",
    "city_data_df = pd.read_csv(\"output_data/cities.csv\", index_col=\"City_ID\")\n",
    "\n",
    "# Display sample data\n",
    "city_data_df.head()"
   ]
  },
  {
   "cell_type": "markdown",
   "metadata": {},
   "source": [
    "### Create the Scatter Plots Requested\n",
    "\n",
    "#### Latitude Vs. Temperature"
   ]
  },
  {
   "cell_type": "code",
   "execution_count": null,
   "metadata": {
    "tags": []
   },
   "outputs": [],
   "source": [
    "# Build scatter plot for latitude vs. temperature\n",
    "plt.scatter(city_data_df['lat'],city_data_df['Max Temp'], marker='o',facecolors='r', edgecolors='k')\n",
    "\n",
    "# Incorporate the other graph properties\n",
    "plt.xlabel('Latitude')\n",
    "plt.ylabel(' Max Temperature (°C)')\n",
    "plt.ylim(-40,40)\n",
    "date=city_data_df['Date'].min()\n",
    "plt.title(f\"1. Latitude vs. Temperature ({date})\")\n",
    "\n",
    "# Save the figure\n",
    "plt.savefig(\"output_data/Fig1.png\")\n",
    "\n",
    "# Show plot\n",
    "plt.show()"
   ]
  },
  {
   "cell_type": "markdown",
   "metadata": {},
   "source": [
    "#### Latitude Vs. Humidity"
   ]
  },
  {
   "cell_type": "code",
   "execution_count": null,
   "metadata": {},
   "outputs": [],
   "source": [
    "# Build the scatter plots for latitude vs. humidity\n",
    "plt.scatter(city_data_df['lat'],city_data_df['Humidity'], marker='o',facecolors='r', edgecolors='k')\n",
    "\n",
    "# Incorporate the other graph properties\n",
    "plt.xlabel('Latitude')\n",
    "plt.ylabel(' Humidity (%)')\n",
    "# plt.ylim(-40,40)\n",
    "date=city_data_df['Date'].min()\n",
    "plt.title(f\"2. Latitude vs. Humidity ({date})\")\n",
    "\n",
    "# Save the figure\n",
    "plt.savefig(\"output_data/Fig2.png\")\n",
    "\n",
    "# Show plot\n",
    "plt.show()"
   ]
  },
  {
   "cell_type": "markdown",
   "metadata": {},
   "source": [
    "#### Latitude Vs. Cloudiness"
   ]
  },
  {
   "cell_type": "code",
   "execution_count": null,
   "metadata": {},
   "outputs": [],
   "source": [
    "# Build the scatter plots for latitude vs. cloudiness\n",
    "plt.scatter(city_data_df['lat'],city_data_df['Cloudiness'], marker='o',facecolors='r', edgecolors='k')\n",
    "\n",
    "# Incorporate the other graph properties\n",
    "plt.xlabel('Latitude')\n",
    "plt.ylabel('Cloudiness  (%)')\n",
    "# plt.ylim(-40,40)\n",
    "date=city_data_df['Date'].min()\n",
    "plt.title(f\"3. Latitude vs. Cloudiness ({date})\")\n",
    "\n",
    "\n",
    "# Save the figure\n",
    "plt.savefig(\"output_data/Fig3.png\")\n",
    "\n",
    "# Show plot\n",
    "plt.show()"
   ]
  },
  {
   "cell_type": "markdown",
   "metadata": {},
   "source": [
    "#### Latitude vs. Wind Speed Plot"
   ]
  },
  {
   "cell_type": "code",
   "execution_count": null,
   "metadata": {},
   "outputs": [],
   "source": [
    "# Build the scatter plots for latitude vs. wind speed\n",
    "plt.scatter(city_data_df['lat'],city_data_df['Wind Speed'], marker='o',facecolors='r', edgecolors='k')\n",
    "\n",
    "# Incorporate the other graph properties\n",
    "plt.xlabel('Latitude')\n",
    "plt.ylabel('Wind Speed  (m/s)')\n",
    "# plt.ylim(-40,40)\n",
    "date=city_data_df['Date'].min()\n",
    "plt.title(f\"4. Latitude vs.Wind Speed  ({date})\")\n",
    "\n",
    "# Save the figure\n",
    "plt.savefig(\"output_data/Fig4.png\")\n",
    "\n",
    "# Show plot\n",
    "plt.show()"
   ]
  },
  {
   "cell_type": "markdown",
   "metadata": {},
   "source": [
    "---\n",
    "\n",
    "## Requirement 2: Compute Linear Regression for Each Relationship\n"
   ]
  },
  {
   "cell_type": "code",
   "execution_count": null,
   "metadata": {},
   "outputs": [],
   "source": [
    "# Define a function to create Linear Regression plots\n"
   ]
  },
  {
   "cell_type": "code",
   "execution_count": null,
   "metadata": {},
   "outputs": [],
   "source": [
    "# Create a DataFrame with the Northern Hemisphere data (Latitude >= 0)\n",
    "# YOUR CODE HERE\n",
    "\n",
    "# Display sample data\n",
    "northern_hemi_df.head()"
   ]
  },
  {
   "cell_type": "code",
   "execution_count": null,
   "metadata": {},
   "outputs": [],
   "source": [
    "# Create a DataFrame with the Southern Hemisphere data (Latitude < 0)\n",
    "# YOUR CODE HERE\n",
    "\n",
    "# Display sample data\n",
    "southern_hemi_df.head()"
   ]
  },
  {
   "cell_type": "markdown",
   "metadata": {},
   "source": [
    "###  Temperature vs. Latitude Linear Regression Plot"
   ]
  },
  {
   "cell_type": "code",
   "execution_count": null,
   "metadata": {},
   "outputs": [],
   "source": [
    "# Linear regression on Northern Hemisphere\n",
    "# YOUR CODE HERE"
   ]
  },
  {
   "cell_type": "code",
   "execution_count": null,
   "metadata": {},
   "outputs": [],
   "source": [
    "# Linear regression on Southern Hemisphere\n",
    "# YOUR CODE HERE"
   ]
  },
  {
   "cell_type": "markdown",
   "metadata": {},
   "source": [
    "**Discussion about the linear relationship:** YOUR RESPONSE HERE"
   ]
  },
  {
   "cell_type": "markdown",
   "metadata": {},
   "source": [
    "### Humidity vs. Latitude Linear Regression Plot"
   ]
  },
  {
   "cell_type": "code",
   "execution_count": null,
   "metadata": {},
   "outputs": [],
   "source": [
    "# Northern Hemisphere\n",
    "# YOUR CODE HERE"
   ]
  },
  {
   "cell_type": "code",
   "execution_count": null,
   "metadata": {},
   "outputs": [],
   "source": [
    "# Southern Hemisphere\n",
    "# YOUR CODE HERE"
   ]
  },
  {
   "cell_type": "markdown",
   "metadata": {},
   "source": [
    "**Discussion about the linear relationship:** YOUR RESPONSE HERE"
   ]
  },
  {
   "cell_type": "markdown",
   "metadata": {},
   "source": [
    "### Cloudiness vs. Latitude Linear Regression Plot"
   ]
  },
  {
   "cell_type": "code",
   "execution_count": null,
   "metadata": {},
   "outputs": [],
   "source": [
    "# Northern Hemisphere\n",
    "# YOUR CODE HERE"
   ]
  },
  {
   "cell_type": "code",
   "execution_count": null,
   "metadata": {},
   "outputs": [],
   "source": [
    "# Southern Hemisphere\n",
    "# YOUR CODE HERE"
   ]
  },
  {
   "cell_type": "markdown",
   "metadata": {},
   "source": [
    "**Discussion about the linear relationship:** YOUR RESPONSE HERE"
   ]
  },
  {
   "cell_type": "markdown",
   "metadata": {},
   "source": [
    "### Wind Speed vs. Latitude Linear Regression Plot"
   ]
  },
  {
   "cell_type": "code",
   "execution_count": null,
   "metadata": {},
   "outputs": [],
   "source": [
    "# Northern Hemisphere\n",
    "# YOUR CODE HERE"
   ]
  },
  {
   "cell_type": "code",
   "execution_count": null,
   "metadata": {},
   "outputs": [],
   "source": [
    "# Southern Hemisphere\n",
    "# YOUR CODE HERE"
   ]
  },
  {
   "cell_type": "markdown",
   "metadata": {},
   "source": [
    "**Discussion about the linear relationship:** YOUR RESPONSE HERE"
   ]
  },
  {
   "cell_type": "code",
   "execution_count": null,
   "metadata": {},
   "outputs": [],
   "source": []
  }
 ],
 "metadata": {
  "anaconda-cloud": {},
  "kernel_info": {
   "name": "python3"
  },
  "kernelspec": {
   "display_name": "Python 3 (ipykernel)",
   "language": "python",
   "name": "python3"
  },
  "language_info": {
   "codemirror_mode": {
    "name": "ipython",
    "version": 3
   },
   "file_extension": ".py",
   "mimetype": "text/x-python",
   "name": "python",
   "nbconvert_exporter": "python",
   "pygments_lexer": "ipython3",
   "version": "3.7.7"
  },
  "latex_envs": {
   "LaTeX_envs_menu_present": true,
   "autoclose": false,
   "autocomplete": true,
   "bibliofile": "biblio.bib",
   "cite_by": "apalike",
   "current_citInitial": 1,
   "eqLabelWithNumbers": true,
   "eqNumInitial": 1,
   "hotkeys": {
    "equation": "Ctrl-E",
    "itemize": "Ctrl-I"
   },
   "labels_anchors": false,
   "latex_user_defs": false,
   "report_style_numbering": false,
   "user_envs_cfg": false
  },
  "nteract": {
   "version": "0.12.3"
  }
 },
 "nbformat": 4,
 "nbformat_minor": 4
}
